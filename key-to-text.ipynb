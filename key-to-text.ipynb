{
 "cells": [
  {
   "cell_type": "code",
   "execution_count": 1,
   "metadata": {},
   "outputs": [
    {
     "name": "stderr",
     "output_type": "stream",
     "text": [
      "C:\\Users\\yerld\\AppData\\Local\\Programs\\Python\\Python39\\lib\\site-packages\\setuptools\\distutils_patch.py:25: UserWarning: Distutils was imported before Setuptools. This usage is discouraged and may exhibit undesirable behaviors or errors. Please use Setuptools' objects directly or at least import Setuptools first.\n",
      "  warnings.warn(\n",
      "Global seed set to 42\n"
     ]
    }
   ],
   "source": [
    "import json\n",
    "from keytotext import pipeline\n",
    "from transformers.file_utils import MULTIPLE_CHOICE_DUMMY_INPUTS"
   ]
  },
  {
   "cell_type": "markdown",
   "metadata": {},
   "source": [
    "## import model and data"
   ]
  },
  {
   "cell_type": "code",
   "execution_count": 2,
   "metadata": {},
   "outputs": [],
   "source": [
    "# loading the pre-trained model\n",
    "nlp = pipeline(\"k2t-base\")\n",
    "\n",
    "# decoding params\n",
    "params = {\"do_sample\":True, \"num_beams\":4, \"no_repeat_ngram_size\":3, \"early_stopping\":True}"
   ]
  },
  {
   "cell_type": "code",
   "execution_count": 3,
   "metadata": {},
   "outputs": [],
   "source": [
    "# import kanji data\n",
    "with open('data/kanji.json', encoding='utf8') as f:\n",
    "    kanji_data = json.load(f)"
   ]
  },
  {
   "cell_type": "markdown",
   "metadata": {},
   "source": [
    "## function definitions"
   ]
  },
  {
   "cell_type": "code",
   "execution_count": 4,
   "metadata": {},
   "outputs": [],
   "source": [
    "# gets set of keywords from kanji character\n",
    "def get_keywords(character):\n",
    "    \n",
    "    # check if character is present in dataset\n",
    "    if character in kanji_data.keys():\n",
    "        char_properties = kanji_data[character]\n",
    "        \n",
    "        # check if radicals are available\n",
    "        if char_properties['wk_radicals'] != None:\n",
    "            \n",
    "            # add meaning as keyword\n",
    "            keywords = [char_properties['wk_meanings'][0].lower()]\n",
    "            \n",
    "            # add radicals as keywords\n",
    "            [keywords.append(rad.lower()) for rad in char_properties['wk_radicals']]\n",
    "            print(f\"Keywords: {keywords}\")\n",
    "            return keywords\n",
    "        else:\n",
    "            print(\"Radicals not available for this character. Try another one.\")\n",
    "            return []\n",
    "    else:\n",
    "        print(\"Character not available. Try another one.\")\n",
    "        return []"
   ]
  },
  {
   "cell_type": "markdown",
   "metadata": {},
   "source": [
    "## task"
   ]
  },
  {
   "cell_type": "code",
   "execution_count": 5,
   "metadata": {},
   "outputs": [
    {
     "name": "stdout",
     "output_type": "stream",
     "text": [
      "Keywords: ['cut', 'seven', 'sword']\n"
     ]
    }
   ],
   "source": [
    "# input and get keywords\n",
    "keywords = get_keywords(input(\"Insert a character: \"))"
   ]
  },
  {
   "cell_type": "code",
   "execution_count": 6,
   "metadata": {},
   "outputs": [
    {
     "name": "stderr",
     "output_type": "stream",
     "text": [
      "C:\\Users\\yerld\\AppData\\Local\\Programs\\Python\\Python39\\lib\\site-packages\\transformers\\generation_utils.py:2142: UserWarning: __floordiv__ is deprecated, and its behavior will change in a future version of pytorch. It currently rounds toward 0 (like the 'trunc' function NOT 'floor'). This results in incorrect rounding for negative values. To keep the current behavior, use torch.div(a, b, rounding_mode='trunc'), or for actual floor division, use torch.div(a, b, rounding_mode='floor').\n",
      "  next_indices = next_tokens // vocab_size\n"
     ]
    },
    {
     "name": "stdout",
     "output_type": "stream",
     "text": [
      "Sentence: The cut|sword is a variation of the seven-word.\n"
     ]
    }
   ],
   "source": [
    "# generate sentence\n",
    "if len(keywords) > 2:\n",
    "    final_result = nlp(keywords, **params)\n",
    "    print(f\"Sentence: {final_result}\")\n",
    "else:\n",
    "    print(\"Try another character.\")"
   ]
  }
 ],
 "metadata": {
  "interpreter": {
   "hash": "f260d84dac1b1c06debbf1cee89e7a9e2858c235d03b84fd0dc295898ec1d64b"
  },
  "kernelspec": {
   "display_name": "Python 3.9.4 64-bit",
   "name": "python3"
  },
  "language_info": {
   "codemirror_mode": {
    "name": "ipython",
    "version": 3
   },
   "file_extension": ".py",
   "mimetype": "text/x-python",
   "name": "python",
   "nbconvert_exporter": "python",
   "pygments_lexer": "ipython3",
   "version": "3.9.4"
  },
  "orig_nbformat": 4
 },
 "nbformat": 4,
 "nbformat_minor": 2
}
